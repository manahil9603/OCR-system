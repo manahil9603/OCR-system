{
 "cells": [
  {
   "cell_type": "markdown",
   "metadata": {},
   "source": [
    "# OCR SYSTEM"
   ]
  },
  {
   "cell_type": "markdown",
   "metadata": {},
   "source": [
    "#### Import Libraries"
   ]
  },
  {
   "cell_type": "code",
   "execution_count": 56,
   "metadata": {},
   "outputs": [],
   "source": [
    "%matplotlib inline\n",
    "import numpy as np\n",
    "from matplotlib import pyplot as plt\n",
    "import pandas as pd"
   ]
  },
  {
   "cell_type": "markdown",
   "metadata": {},
   "source": [
    "#### Import sample images"
   ]
  },
  {
   "cell_type": "code",
   "execution_count": 57,
   "metadata": {},
   "outputs": [
    {
     "data": {
      "image/png": "[encoded data removed]",
      "text/plain": [
       "<Figure size 640x480 with 2 Axes>"
      ]
     },
     "metadata": {},
     "output_type": "display_data"
    }
   ],
   "source": [
    "img2=np.array([0,0,0,0,0,0,0,0,0,0,0,0,0,0,0,0,0,0,1,1,1,0,0,0,0,0,0,0,0,0,0,0,0,1,1,0,0,0,0,0,0,0,0,\n",
    "0,0,1,0,0,1,0,0,0,0,0,0,0,0,0,0,0,1,1,0,0,1,0,0,0,0,0,0,0,0,0,0,0,1,1,0,0,1,0,0,0,0,0,0,0,0,0,0,0,1,\n",
    "1,1,0,1,0,0,0,0,0,0,0,0,0,0,1,1,0,1,0,1,0,0,0,0,0,0,0,0,0,0,1,0,0,1,0,1,0,0,0,0,0,0,0,0,0,1,0,0,0,1,\n",
    "0,1,1,1,1,1,1,1,1,1,1,1,0,0,0,1,1,0,0,0,0,0,0,0,0,0,0,0,0,0,0,0,1,0,0,0,0,0,0,0,0,0,0,0,0,0,0,0,1,0,\n",
    "0,0,0,0,0,0,0,0,0,0,0,0,0,0,1,0,0,0,0,0,0,0,0,0,0,0,0,0,0,0,1,0,0,0,0,0,0,0,0,0,0,0,0,0,0,0,1,0,0,0,\n",
    "0,0,0,0,0,0,0,0,0,0,0,0,0],dtype=np.uint8)\n",
    "\n",
    "img4=np.array([0,0,0,0,0,0,0,0,0,0,0,0,0,0,0,0,0,0,0,0,0,0,0,0,0,0,0,0,0,0,0,0,0,0,0,0,0,0,0,1,0,0,0,\n",
    "0,0,0,0,0,1,1,1,1,1,1,1,1,0,0,0,0,0,0,0,0,0,0,0,0,0,0,0,1,0,0,0,0,0,0,0,1,0,0,0,0,0,0,0,1,0,0,0,0,0,\n",
    "1,1,1,0,0,0,0,0,0,1,0,0,0,1,1,1,0,0,0,0,0,0,0,0,0,1,0,0,1,1,0,0,0,0,0,0,0,0,0,0,0,1,1,1,0,0,0,0,0,0,\n",
    "0,0,1,1,1,1,1,1,0,0,0,0,0,0,0,0,0,1,1,0,0,0,1,0,0,0,0,0,0,0,0,0,0,0,0,0,0,0,1,0,0,0,0,0,0,0,0,0,0,0,\n",
    "0,0,0,1,1,0,0,0,0,0,0,0,0,0,0,0,0,0,0,0,1,0,0,0,0,0,0,0,0,0,0,0,0,0,0,0,0,0,0,0,0,0,0,0,0,0,0,0,0,0,\n",
    "0,0,0,0,0,0,0,0,0,0,0,0,0],dtype=np.uint8)\n",
    "\n",
    "img = np.reshape(img4,(16,16),order= 'F')\n",
    "img1 = np.reshape(img2,(16,16),order= 'F')\n",
    "\n",
    "fig, axes = plt.subplots(1, 2)\n",
    "axes[0].imshow(img)\n",
    "axes[0].set_title('Image of 4')\n",
    "axes[1].imshow(img1)\n",
    "axes[1].set_title('Image of 2')\n",
    "\n",
    "plt.tight_layout()\n",
    "\n",
    "plt.show()"
   ]
  },
  {
   "cell_type": "markdown",
   "metadata": {},
   "source": [
    "## Import Data from the Files"
   ]
  },
  {
   "cell_type": "markdown",
   "metadata": {},
   "source": [
    "#### Training Data"
   ]
  },
  {
   "cell_type": "code",
   "execution_count": 58,
   "metadata": {},
   "outputs": [
    {
     "name": "stdout",
     "output_type": "stream",
     "text": [
      "Shape of X_train: (500, 256)\n",
      "Shape of y_train: (500,)\n"
     ]
    }
   ],
   "source": [
    "# Load X_train from trainX.txt\n",
    "X_train = np.loadtxt('trainX.txt')\n",
    "\n",
    "# Load y_train from trainy.txt\n",
    "y_train = np.loadtxt('trainy.txt')\n",
    "\n",
    "\n",
    "print(\"Shape of X_train:\", X_train.shape)\n",
    "print(\"Shape of y_train:\", y_train.shape)"
   ]
  },
  {
   "cell_type": "markdown",
   "metadata": {},
   "source": [
    "Expected Output <br>\n",
    "- Shape of X_train : (500, 256) <br>\n",
    "- Shape of y_train : (500,)"
   ]
  },
  {
   "cell_type": "markdown",
   "metadata": {},
   "source": [
    "### Testing Data"
   ]
  },
  {
   "cell_type": "code",
   "execution_count": 59,
   "metadata": {},
   "outputs": [
    {
     "name": "stdout",
     "output_type": "stream",
     "text": [
      "Shape of X_train: (100, 256)\n",
      "Shape of y_train: (100,)\n"
     ]
    }
   ],
   "source": [
    "# Load X_train from trainX.txt\n",
    "X_test = np.loadtxt('testx.txt')\n",
    "\n",
    "# Load y_train from trainy.txt\n",
    "y_test = np.loadtxt('testY.txt')\n",
    "\n",
    "\n",
    "print(\"Shape of X_train:\", X_test.shape)\n",
    "print(\"Shape of y_train:\", y_test.shape)"
   ]
  },
  {
   "cell_type": "markdown",
   "metadata": {},
   "source": [
    "Expected Output <br>\n",
    "- Shape of X_train : (100, 256) <br>\n",
    "- Shape of y_train : (100,)\n"
   ]
  },
  {
   "cell_type": "markdown",
   "metadata": {},
   "source": [
    "### Dividing Data W.R.T its Classes"
   ]
  },
  {
   "cell_type": "markdown",
   "metadata": {},
   "source": [
    "##### Training Data"
   ]
  },
  {
   "cell_type": "code",
   "execution_count": 60,
   "metadata": {},
   "outputs": [
    {
     "name": "stdout",
     "output_type": "stream",
     "text": [
      "Shape of img2_X_train: (250, 256)\n",
      "Shape of img4_X_train: (250, 256)\n"
     ]
    }
   ],
   "source": [
    "#AS we know first 250 images are of 2 so we will take first 250 images from X_train\n",
    "#your code here\n",
    "\n",
    "# the first 250 images are of class 2\n",
    "img2_X_train = X_train[:250]\n",
    "img2_y_train = y_train[:250]\n",
    "\n",
    "# The the last 250 images are of class 4\n",
    "img4_X_train = X_train[250:]\n",
    "img4_y_train = y_train[250:]\n",
    "\n",
    "\n",
    "print(\"Shape of img2_X_train:\", img2_X_train.shape)\n",
    "print(\"Shape of img4_X_train:\", img4_X_train.shape)\n"
   ]
  },
  {
   "cell_type": "markdown",
   "metadata": {},
   "source": [
    "##### Another way\n",
    "You can coment the below code if you dont want to try this effective way and will use the above code to divide the data into classes"
   ]
  },
  {
   "cell_type": "code",
   "execution_count": 45,
   "metadata": {},
   "outputs": [],
   "source": [
    "#But in case if we didn't know that first 250 images are of 2 then we can use this code\n",
    "#This img2_X_train will contain only only those images from X_train which have corespondong label of 2 in Y_train\n",
    "#img2_X_train = \n",
    "#img4_X_train = \n",
    "#print(img2_X_train.shape)\n",
    "#print(img4_X_train.shape)"
   ]
  },
  {
   "cell_type": "markdown",
   "metadata": {},
   "source": [
    "Expected Output <br>\n",
    "- Shape of X_train : (250, 256) <br>\n",
    "- Shape of y_train : (250, 256)\n"
   ]
  },
  {
   "cell_type": "markdown",
   "metadata": {},
   "source": [
    "##### Testing Data"
   ]
  },
  {
   "cell_type": "code",
   "execution_count": 61,
   "metadata": {},
   "outputs": [
    {
     "name": "stdout",
     "output_type": "stream",
     "text": [
      "Shape of img2_X_test: (50, 256)\n",
      "Shape of img4_X_test: (50, 256)\n"
     ]
    }
   ],
   "source": [
    "# Your code here\n",
    "# Assuming first 50 images are of digit 2 and next 50 are of digit 4\n",
    "img2_X_test = X_test[:50]\n",
    "img4_X_test = X_test[50:]\n",
    "\n",
    "print(\"Shape of img2_X_test:\", img2_X_test.shape)\n",
    "print(\"Shape of img4_X_test:\", img4_X_test.shape)"
   ]
  },
  {
   "cell_type": "markdown",
   "metadata": {},
   "source": [
    "Expected Output <br>\n",
    "- Shape of X_train : (50, 256) <br>\n",
    "- Shape of y_train : (50, 256)\n"
   ]
  },
  {
   "cell_type": "markdown",
   "metadata": {},
   "source": [
    "### Finding the Probabilities"
   ]
  },
  {
   "cell_type": "markdown",
   "metadata": {},
   "source": [
    "### Training Data"
   ]
  },
  {
   "cell_type": "markdown",
   "metadata": {},
   "source": [
    "##### Probabailty of 1s and 0s"
   ]
  },
  {
   "cell_type": "code",
   "execution_count": 62,
   "metadata": {},
   "outputs": [
    {
     "name": "stdout",
     "output_type": "stream",
     "text": [
      "(256,)\n",
      "(256,)\n",
      "(256,)\n",
      "(256,)\n"
     ]
    }
   ],
   "source": [
    "# Calculate the probability of each pixel being 1 in class 2 images\n",
    "img2_one_prob = (np.count_nonzero(img2_X_train == 1, axis = 0) + 1) / (img2_X_train.shape[0] + 2)\n",
    "\n",
    "# Calculate the probability of each pixel being 0 in class 2 images\n",
    "img2_zero_prob = (np.count_nonzero(img2_X_train == 0, axis = 0) + 1) / (img2_X_train.shape[0] + 2)\n",
    "\n",
    "# Calculate the probability of each pixel being 1 in class 4 images\n",
    "img4_one_prob = (np.count_nonzero(img4_X_train == 1, axis = 0) + 1) / (img4_X_train.shape[0] + 2)\n",
    "\n",
    "# Calculate the probability of each pixel being 0 in class 4 images\n",
    "img4_zero_prob = (np.count_nonzero(img4_X_train == 0, axis = 0) + 1) / (img4_X_train.shape[0] + 2)\n",
    "\n",
    "# Print the shapes of the probability arrays\n",
    "print(img2_one_prob.shape)\n",
    "print(img2_zero_prob.shape)\n",
    "print(img4_one_prob.shape)\n",
    "print(img4_zero_prob.shape)"
   ]
  },
  {
   "cell_type": "markdown",
   "metadata": {},
   "source": [
    "Expected Output <br>\n",
    "- (256,)\n",
    "- (256,)\n",
    "- (256,)\n",
    "- (256,)\n"
   ]
  },
  {
   "cell_type": "markdown",
   "metadata": {},
   "source": [
    "#### Class Probabilities"
   ]
  },
  {
   "cell_type": "code",
   "execution_count": 63,
   "metadata": {},
   "outputs": [],
   "source": [
    "# Calculate the prior probability of class 2\n",
    "class_2_prob = img2_X_train.shape[0] / X_train.shape[0]\n",
    "\n",
    "# Calculate the prior probability of class 4\n",
    "class_4_prob = img4_X_train.shape[0] / X_train.shape[0]\n"
   ]
  },
  {
   "cell_type": "markdown",
   "metadata": {},
   "source": [
    "#### Predictions"
   ]
  },
  {
   "cell_type": "code",
   "execution_count": 64,
   "metadata": {},
   "outputs": [],
   "source": [
    "# Calculate the probability of class 2 for each sample in the training data\n",
    "prob2 = (X_train * img2_one_prob + (1 - X_train) * img2_zero_prob).prod(axis=1) * class_2_prob\n",
    "\n",
    "# Calculate the probability of class 4 for each sample in the training data\n",
    "prob4 = (X_train * img4_one_prob + (1 - X_train) * img4_zero_prob).prod(axis=1) * class_4_prob\n",
    "\n",
    "# Make predictions based on the probabilities: if the probability of class 2 is greater than class 4, predict class 2, otherwise predict class 4\n",
    "predictions = np.where(prob2 > prob4, 2, 4)\n"
   ]
  },
  {
   "cell_type": "markdown",
   "metadata": {},
   "source": [
    "#### Overall Accuracy"
   ]
  },
  {
   "cell_type": "code",
   "execution_count": 65,
   "metadata": {},
   "outputs": [
    {
     "name": "stdout",
     "output_type": "stream",
     "text": [
      "Confusion Matrix\n",
      "TP = 248 FP = 4\n",
      "FN = 2 TN = 246\n",
      "\n",
      "Overall Accuracy =  0.988\n"
     ]
    }
   ],
   "source": [
    "from sklearn.metrics import confusion_matrix\n",
    "\n",
    "# Calculate the overall accuracy of the predictions\n",
    "accuracy_smooth = np.mean(predictions == y_train) * 100\n",
    "\n",
    "# Compute the confusion matrix\n",
    "cm_smooth = confusion_matrix(y_train, predictions)\n",
    "print(\"Confusion Matrix\")\n",
    "print(\"TP =\", cm_smooth[1][1], \"FP =\", cm_smooth[0][1])\n",
    "print(\"FN =\", cm_smooth[1][0], \"TN =\", cm_smooth[0][0])\n",
    "\n",
    "\n",
    "print(\"\\nOverall Accuracy = \", np.mean(predictions == y_train))\n",
    "\n"
   ]
  },
  {
   "cell_type": "markdown",
   "metadata": {},
   "source": [
    "Expected Output \n",
    "<br><br>\n",
    "**Confusion Matrix**\n",
    "<br>\n",
    "TP =  248 \tFP =  4\n",
    "<br>\n",
    "FN =  2 \tTN =  246\n",
    "<br>\n",
    "- Overall Accuracy =  0.988"
   ]
  },
  {
   "cell_type": "markdown",
   "metadata": {},
   "source": [
    "#### Classwise Accuracy"
   ]
  },
  {
   "cell_type": "code",
   "execution_count": 66,
   "metadata": {},
   "outputs": [
    {
     "name": "stdout",
     "output_type": "stream",
     "text": [
      "Total accuracy of Training data given class 2:  0.984\n",
      "Total accuracy of Training data given class 4:  0.992\n"
     ]
    }
   ],
   "source": [
    "# Calculate the total accuracy of the predictions for class 2 in the training data\n",
    "class2_train_total_accuracy = np.mean(predictions[y_train == 2] == 2)\n",
    "\n",
    "# Calculate the total accuracy of the predictions for class 4 in the training data\n",
    "class4_train_total_accuracy = np.mean(predictions[y_train == 4] == 4)\n",
    "\n",
    "print(\"Total accuracy of Training data given class 2: \", class2_train_total_accuracy)\n",
    "print(\"Total accuracy of Training data given class 4: \" , class4_train_total_accuracy)"
   ]
  },
  {
   "cell_type": "markdown",
   "metadata": {},
   "source": [
    "Expected Output <br>\n",
    "\n",
    "- Total accuracy of Training data given class 2:  0.984\n",
    "<br>\n",
    "- Total accuracy of Training data given class 4:  0.992"
   ]
  },
  {
   "cell_type": "markdown",
   "metadata": {},
   "source": [
    "### FOR TESTING DATA"
   ]
  },
  {
   "cell_type": "markdown",
   "metadata": {},
   "source": [
    "##### Probabailty of 1s and 0s"
   ]
  },
  {
   "cell_type": "code",
   "execution_count": 67,
   "metadata": {},
   "outputs": [
    {
     "name": "stdout",
     "output_type": "stream",
     "text": [
      "(256,)\n",
      "(256,)\n",
      "(256,)\n",
      "(256,)\n"
     ]
    }
   ],
   "source": [
    "# Calculate the probability of each pixel being 1 in class 2 testing data using Laplace smoothing\n",
    "img2_one_prob = (np.count_nonzero(img2_X_test == 1, axis = 0) + 1) / (img2_X_test.shape[0] + 2)\n",
    "\n",
    "# Calculate the probability of each pixel being 0 in class 2 testing data using Laplace smoothing\n",
    "img2_zero_prob = (np.count_nonzero(img2_X_test == 0, axis = 0) + 1) / (img2_X_test.shape[0] + 2)\n",
    "\n",
    "# Calculate the probability of each pixel being 1 in class 4 testing data using Laplace smoothing\n",
    "img4_one_prob = (np.count_nonzero(img4_X_test == 1, axis = 0) + 1) / (img4_X_test.shape[0] + 2)\n",
    "\n",
    "# Calculate the probability of each pixel being 0 in class 4 testing data using Laplace smoothing\n",
    "img4_zero_prob = (np.count_nonzero(img4_X_test == 0, axis = 0) + 1) / (img4_X_test.shape[0] + 2)\n",
    "\n",
    "print(img2_one_prob.shape)\n",
    "print(img2_zero_prob.shape)\n",
    "print(img4_one_prob.shape)\n",
    "print(img4_zero_prob.shape)"
   ]
  },
  {
   "cell_type": "markdown",
   "metadata": {},
   "source": [
    "#### Class Probabilities"
   ]
  },
  {
   "cell_type": "code",
   "execution_count": 68,
   "metadata": {},
   "outputs": [],
   "source": [
    "# Calculate the prior probability of class 2 in the testing data\n",
    "class_2_prob = img2_X_test.shape[0] / X_test.shape[0]\n",
    "\n",
    "# Calculate the prior probability of class 4 in the testing data\n",
    "class_4_prob = img4_X_test.shape[0] / X_test.shape[0]\n"
   ]
  },
  {
   "cell_type": "markdown",
   "metadata": {},
   "source": [
    "#### Predictions"
   ]
  },
  {
   "cell_type": "code",
   "execution_count": 69,
   "metadata": {},
   "outputs": [],
   "source": [
    "# Calculate the probabilities of class 2 for each sample in the testing data\n",
    "prob2 = (X_test * img2_one_prob + (1 - X_test) * img2_zero_prob).prod(axis=1) * class_2_prob\n",
    "\n",
    "# Calculate the probabilities of class 4 for each sample in the testing data\n",
    "prob4 = (X_test * img4_one_prob + (1 - X_test) * img4_zero_prob).prod(axis=1) * class_4_prob\n",
    "\n",
    "# Make predictions by comparing the probabilities of class 2 and class 4 for each sample\n",
    "predictions =  np.where(prob2 > prob4, 2, 4)\n"
   ]
  },
  {
   "cell_type": "markdown",
   "metadata": {},
   "source": [
    "#### Classwise Accuracy"
   ]
  },
  {
   "cell_type": "code",
   "execution_count": 70,
   "metadata": {},
   "outputs": [
    {
     "name": "stdout",
     "output_type": "stream",
     "text": [
      "Total accuracy of Training data given class 2:  1.0\n",
      "Total accuracy of Training data given class 4:  1.0\n"
     ]
    }
   ],
   "source": [
    "#the total accuracy for class 2 by comparing predicted labels with actual labels where y_test == 2\n",
    "class2_test_total_accuracy = np.mean(y_pred_smooth[y_test == 2] == 2)\n",
    "\n",
    "#the total accuracy for class 4 by comparing predicted labels with actual labels where y_test == 4\n",
    "class4_test_total_accuracy = np.mean(y_pred_smooth[y_test == 4] == 4)\n",
    "\n",
    "#the total accuracy for class 2\n",
    "print(\"Total accuracy of Training data given class 2: \", class2_test_total_accuracy)\n",
    "#the total accuracy for class 2\n",
    "print(\"Total accuracy of Training data given class 4: \" , class4_test_total_accuracy)"
   ]
  },
  {
   "cell_type": "markdown",
   "metadata": {},
   "source": [
    "Expected Output <br>\n",
    "\n",
    "- Total accuracy of Testing data given class 2:  1.0\n",
    "<br>\n",
    "- Total accuracy of Testing data given class 4:  1.0"
   ]
  },
  {
   "cell_type": "markdown",
   "metadata": {},
   "source": [
    "#### Overall Accuracy"
   ]
  },
  {
   "cell_type": "code",
   "execution_count": 71,
   "metadata": {},
   "outputs": [
    {
     "name": "stdout",
     "output_type": "stream",
     "text": [
      "Confusion Matrix\n",
      "TP = 50 FP = 0\n",
      "FN = 0 TN = 50\n",
      "\n",
      "Overall Accuracy =  1.0\n"
     ]
    }
   ],
   "source": [
    "from sklearn.metrics import confusion_matrix\n",
    "\n",
    "# Compute accuracy\n",
    "accuracy_smooth = np.mean(predictions == y_test) * 100\n",
    "\n",
    "# Compute confusion matrix\n",
    "cm_smooth = confusion_matrix(y_test, predictions)\n",
    "\n",
    "# Print confusion matrix\n",
    "print(\"Confusion Matrix\")\n",
    "print(\"TP =\", cm_smooth[1][1], \"FP =\", cm_smooth[0][1])\n",
    "print(\"FN =\", cm_smooth[1][0], \"TN =\", cm_smooth[0][0])\n",
    "\n",
    "\n",
    "print(\"\\nOverall Accuracy = \", np.mean(predictions == y_test))\n",
    "\n"
   ]
  },
  {
   "cell_type": "markdown",
   "metadata": {},
   "source": [
    "Expected Output \n",
    "<br><br>\n",
    "**Confusion Matrix**\n",
    "<br>\n",
    "TP =  50 \tFP =  0\n",
    "<br>\n",
    "FN =  0 \tTN =  50\n",
    "<br>\n",
    "- Overall Accuracy =  1.0"
   ]
  },
  {
   "cell_type": "markdown",
   "metadata": {},
   "source": [
    "### Plot your Test pixels/features in form of image to correctly identify whether our model is giving correct results"
   ]
  },
  {
   "cell_type": "markdown",
   "metadata": {},
   "source": [
    "2 plots for each class"
   ]
  },
  {
   "cell_type": "code",
   "execution_count": 72,
   "metadata": {},
   "outputs": [
    {
     "data": {
      "image/png": "[encoded data removed]",
      "text/plain": [
       "<Figure size 1000x1000 with 4 Axes>"
      ]
     },
     "metadata": {},
     "output_type": "display_data"
    }
   ],
   "source": [
    "# Plotting test images for class 2\n",
    "fig, axes = plt.subplots(2, 2, figsize=(10, 10))\n",
    "for i in range(2):\n",
    "    axes[0, i].imshow(np.reshape(img2_X_test[i], (16, 16), order='F'), cmap='binary')\n",
    "    axes[0, i].set_title('Actual: 2, Predicted: {}'.format(y_pred_smooth[i]))\n",
    "    axes[0, i].axis('off')\n",
    "\n",
    "# Plotting test images for class 4\n",
    "for i in range(2):\n",
    "    axes[1, i].imshow(np.reshape(img4_X_test[i], (16, 16), order='F'), cmap='binary')\n",
    "    axes[1, i].set_title('Actual: 4, Predicted: {}'.format(y_pred_smooth[i+50]))\n",
    "    axes[1, i].axis('off')\n",
    "\n",
    "plt.tight_layout()\n",
    "plt.show()\n"
   ]
  },
  {
   "cell_type": "markdown",
   "metadata": {},
   "source": [
    "Your Opinion on the results about why naive bayes worked well for  this OCR\n",
    "and give one example where naive bayes can not be used\n"
   ]
  },
  {
   "cell_type": "markdown",
   "metadata": {},
   "source": [
    "Solution :"
   ]
  },
  {
   "cell_type": "markdown",
   "metadata": {},
   "source": [
    "Naive Bayes worked well for the OCR task because it's a simple and fast algorithm that handles high-dimensional data efficiently. It assumes that features (like pixels in an image) are independent, which is often reasonable in tasks like OCR. It's also good at dealing with categorical data, like binary pixel values."
   ]
  },
  {
   "cell_type": "markdown",
   "metadata": {},
   "source": [
    "Naive Bayes may not do so well if features aren't actually independent, or if there are outliers in the data. It might struggle with complex relationships between features and the class label. Also, if continuous features don't follow specific distributions, Naive Bayes might not provide accurate predictions."
   ]
  },
  {
   "cell_type": "markdown",
   "metadata": {},
   "source": [
    "So, while Naive Bayes was a good choice for the OCR task because of its simplicity and efficiency, it might not be the best option for tasks with more complex data relationships or outliers."
   ]
  },
  {
   "cell_type": "markdown",
   "metadata": {},
   "source": []
  }
 ],
 "metadata": {
  "kernelspec": {
   "display_name": "Python 3 (ipykernel)",
   "language": "python",
   "name": "python3"
  },
  "language_info": {
   "codemirror_mode": {
    "name": "ipython",
    "version": 3
   },
   "file_extension": ".py",
   "mimetype": "text/x-python",
   "name": "python",
   "nbconvert_exporter": "python",
   "pygments_lexer": "ipython3",
   "version": "3.11.5"
  }
 },
 "nbformat": 4,
 "nbformat_minor": 2
}
